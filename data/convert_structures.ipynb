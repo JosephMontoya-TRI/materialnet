{
 "cells": [
  {
   "cell_type": "code",
   "execution_count": 34,
   "metadata": {},
   "outputs": [],
   "source": [
    "import json\n",
    "import subprocess"
   ]
  },
  {
   "cell_type": "code",
   "execution_count": 31,
   "metadata": {},
   "outputs": [],
   "source": [
    "files = [\n",
    "    './OQMDProperties_HypoMaterials_v1.2.json',\n",
    "    './OQMDProperties_ExistingMaterials_v1.2.json'\n",
    "]\n",
    "\n",
    "material_formulas = set()\n",
    "\n",
    "for file in files:\n",
    "    with open(file) as f:\n",
    "        data = json.load(f)\n",
    "    for material in data.values():\n",
    "        cif_str = material['structure_cif']\n",
    "        formula = material['formula']\n",
    "        if formula in material_formulas:\n",
    "            print('Duplicate material {}'.format(formula))\n",
    "        material_formulas.add(formula)\n",
    "        with open('./cif/{}.cif'.format(formula), 'w') as f:\n",
    "            f.write(cif_str)"
   ]
  },
  {
   "cell_type": "code",
   "execution_count": 36,
   "metadata": {},
   "outputs": [],
   "source": [
    "for formula in material_formulas:\n",
    "    subprocess.call(['babel', '-icif', './cif/{}.cif'.format(formula), '-ocml', './cml/{}.cml'.format(formula)])"
   ]
  },
  {
   "cell_type": "code",
   "execution_count": 41,
   "metadata": {},
   "outputs": [],
   "source": [
    "for formula in material_formulas:\n",
    "    subprocess.call(['/home/alessandro/kitware/avogadrolibs/build/bin/avobabel', '-i', 'cml', './cml/{}.cml'.format(formula), '-o', 'cjson', './cjson/{}.cjson'.format(formula)])"
   ]
  },
  {
   "cell_type": "code",
   "execution_count": 51,
   "metadata": {},
   "outputs": [],
   "source": [
    "for formula in material_formulas:\n",
    "    with open('./cjson/{}.cjson'.format(formula)) as f:\n",
    "        cjson = json.load(f)\n",
    "    \n",
    "    with open('./cjson_mini/{}.cjson'.format(formula), 'w') as f:\n",
    "        json.dump(cjson, f, indent=None, separators=(',', ':'))"
   ]
  }
 ],
 "metadata": {
  "kernelspec": {
   "display_name": "Python 3",
   "language": "python",
   "name": "python3"
  },
  "language_info": {
   "codemirror_mode": {
    "name": "ipython",
    "version": 3
   },
   "file_extension": ".py",
   "mimetype": "text/x-python",
   "name": "python",
   "nbconvert_exporter": "python",
   "pygments_lexer": "ipython3",
   "version": "3.6.4"
  }
 },
 "nbformat": 4,
 "nbformat_minor": 2
}
